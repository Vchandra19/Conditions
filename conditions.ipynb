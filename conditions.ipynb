{
  "nbformat": 4,
  "nbformat_minor": 0,
  "metadata": {
    "colab": {
      "provenance": []
    },
    "kernelspec": {
      "name": "python3",
      "display_name": "Python 3"
    },
    "language_info": {
      "name": "python"
    }
  },
  "cells": [
    {
      "cell_type": "code",
      "execution_count": null,
      "metadata": {
        "id": "i8AcBELMRaZw"
      },
      "outputs": [],
      "source": []
    },
    {
      "cell_type": "markdown",
      "source": [
        "Q1. What are conditional statements? Explain conditional statements with syntax and examples?\n",
        "\n",
        "Ans:Conditional statements in programming allow you to execute different blocks of code based on whether a specified condition evaluates to true or false. They enable your program to make decisions and follow different paths of execution.\n",
        "The most common conditional statements in JavaScript are if, else if, and else.\n",
        "Syntax and Examples:\n",
        "1. if statement:\n",
        "Executes a block of code if the condition is true.\n"
      ],
      "metadata": {
        "id": "L287GGclRdnk"
      }
    },
    {
      "cell_type": "code",
      "source": [
        "// Syntax:\n",
        "if (condition) {\n",
        "  // Code to be executed if condition is true\n",
        "}\n",
        "\n",
        "// Example:\n",
        "let age = 20;\n",
        "if (age >= 18) {\n",
        "  console.log(\"You are old enough to vote.\"); // Output: You are old enough to vote.\n",
        "}\n",
        "\n"
      ],
      "metadata": {
        "id": "DT9DqFOMR8s-"
      },
      "execution_count": null,
      "outputs": []
    },
    {
      "cell_type": "markdown",
      "source": [
        "2. if...else statement:\n",
        "Executes one block of code if the condition is true and another block if it's false.\n"
      ],
      "metadata": {
        "id": "XEaV5adyR-IV"
      }
    },
    {
      "cell_type": "code",
      "source": [
        "// Syntax:\n",
        "if (condition) {\n",
        "  // Code to be executed if condition is true\n",
        "} else {\n",
        "  // Code to be executed if condition is false\n",
        "}\n",
        "\n",
        "// Example:\n",
        "let temperature = 25;\n",
        "if (temperature > 30) {\n",
        "  console.log(\"It's hot outside!\");\n",
        "} else {\n",
        "  console.log(\"It's a pleasant day.\"); // Output: It's a pleasant day.\n",
        "}\n",
        "\n"
      ],
      "metadata": {
        "id": "gjkpiZ4xSB77"
      },
      "execution_count": null,
      "outputs": []
    },
    {
      "cell_type": "markdown",
      "source": [
        "3. if...else if...else statement:\n",
        "Allows for multiple conditions to be checked sequentially. The first condition that evaluates to true will have its corresponding block of code executed.\n"
      ],
      "metadata": {
        "id": "acFdPR_SSHQ2"
      }
    },
    {
      "cell_type": "code",
      "source": [
        "// Syntax:\n",
        "if (condition1) {\n",
        "  // Code to be executed if condition1 is true\n",
        "} else if (condition2) {\n",
        "  // Code to be executed if condition2 is true\n",
        "} else {\n",
        "  // Code to be executed if none of the above conditions are true\n",
        "}\n",
        "\n",
        "// Example:\n",
        "let score = 75;\n",
        "if (score >= 90) {\n",
        "  console.log(\"Excellent!\");\n",
        "} else if (score >= 70) {\n",
        "  console.log(\"Good job!\"); // Output: Good job!\n",
        "} else {\n",
        "  console.log(\"Keep practicing.\");\n",
        "}\n",
        "\n"
      ],
      "metadata": {
        "id": "fWMCh3EVSLxD"
      },
      "execution_count": null,
      "outputs": []
    },
    {
      "cell_type": "markdown",
      "source": [
        "4. switch statement:\n",
        "Provides a way to execute different code based on different values of a single variable or expression. It's often used as an alternative to a long if...else if chain when comparing a variable against multiple fixed values.\n"
      ],
      "metadata": {
        "id": "xOuC8C7ESSFT"
      }
    },
    {
      "cell_type": "code",
      "source": [
        "// Syntax:\n",
        "switch (expression) {\n",
        "  case value1:\n",
        "    // Code to be executed if expression === value1\n",
        "    break; // Important: Exits the switch\n",
        "  case value2:\n",
        "    // Code to be executed if expression === value2\n",
        "    break;\n",
        "  default:\n",
        "    // Code to be executed if none of the cases match\n",
        "}\n",
        "\n",
        "// Example:\n",
        "let day = \"Monday\";\n",
        "switch (day) {\n",
        "  case \"Monday\":\n",
        "    console.log(\"Start of the week.\"); // Output: Start of the week.\n",
        "    break;\n",
        "  case \"Friday\":\n",
        "    console.log(\"Weekend is near!\");\n",
        "    break;\n",
        "  default:\n",
        "    console.log(\"It's a regular day.\");\n",
        "}\n",
        "\n"
      ],
      "metadata": {
        "id": "n_cQmtHASU8s"
      },
      "execution_count": null,
      "outputs": []
    },
    {
      "cell_type": "markdown",
      "source": [
        "Q2. Write a program that grades students based on their marks.\n",
        "\n",
        "i.If greater than 90 then A GradE\n",
        "\n",
        "ii.If between 70 and 90 then a B gradE\n",
        "\n",
        "iii.If between 50 and 70 then a C gradE\n",
        "\n",
        "iv.Below 50 then an F grade\n",
        "\n",
        "Ans:"
      ],
      "metadata": {
        "id": "yARDV6ZVScIo"
      }
    },
    {
      "cell_type": "code",
      "source": [
        "<!-- end list -->\n",
        "function assignGrade(marks) {\n",
        "  if (marks > 90) {\n",
        "    return \"A Grade\";\n",
        "  } else if (marks >= 70 && marks <= 90) { // Using logical AND for range\n",
        "    return \"B Grade\";\n",
        "  } else if (marks >= 50 && marks < 70) { // Using logical AND for range\n",
        "    return \"C Grade\";\n",
        "  } else {\n",
        "    return \"F Grade\";\n",
        "  }\n",
        "}\n",
        "\n",
        "// Test cases:\n",
        "console.log(Marks: 95, Grade: ${assignGrade(95)});  // Output: Marks: 95, Grade: A Grade\n",
        "console.log(Marks: 80, Grade: ${assignGrade(80)});  // Output: Marks: 80, Grade: B Grade\n",
        "console.log(Marks: 65, Grade: ${assignGrade(65)});  // Output: Marks: 65, Grade: C Grade\n",
        "console.log(Marks: 40, Grade: ${assignGrade(40)});  // Output: Marks: 40, Grade: F Grade\n",
        "console.log(Marks: 70, Grade: ${assignGrade(70)});  // Output: Marks: 70, Grade: B Grade\n",
        "console.log(Marks: 50, Grade: ${assignGrade(50)});  // Output: Marks: 50, Grade: C Grade\n",
        "console.log(Marks: 100, Grade: ${assignGrade(100)}); // Output: Marks: 100, Grade: A Grade\n",
        "\n"
      ],
      "metadata": {
        "id": "PJhY0Kn8S7x8"
      },
      "execution_count": null,
      "outputs": []
    },
    {
      "cell_type": "markdown",
      "source": [
        "Q3. What are loops, and what do we need them? Explain different types of loops with their syntax and examples?\n",
        "\n",
        "Ans:\n",
        "\n",
        "Loops are essential because they:\n",
        " * Automate Repetitive Tasks: Instead of writing the same code multiple times, loops allow you to write it once and have it execute repeatedly.\n",
        " * Process Collections: They are fundamental for iterating over arrays, strings, or other data structures to perform operations on each element.\n",
        " * Efficiency: They make code more concise, readable, and less prone to errors when dealing with repetitive operations.\n",
        " * Dynamic Behavior: They enable programs to adapt to varying amounts of data or to continue execution until a certain state is achieved.\n",
        "Different Types of Loops in JavaScript:\n",
        "1. for loop:\n",
        "The most common loop, used when you know the number of iterations beforehand or when you need a counter.\n",
        "\n"
      ],
      "metadata": {
        "id": "uhPpxYs6TJ3c"
      }
    },
    {
      "cell_type": "code",
      "source": [
        "// Syntax:\n",
        "for (initialization; condition; increment/decrement) {\n",
        "  // Code to be executed repeatedly\n",
        "}\n",
        "\n",
        "// Example: Print numbers from 1 to 5\n",
        "for (let i = 1; i <= 5; i++) {\n",
        "  console.log(i);\n",
        "}\n",
        "/* Output:\n",
        "1\n",
        "2\n",
        "3\n",
        "4\n",
        "5\n",
        "*/\n",
        "\n",
        "// Example: Iterate over an array\n",
        "const fruits = [\"apple\", \"banana\", \"cherry\"];\n",
        "for (let i = 0; i < fruits.length; i++) {\n",
        "  console.log(I like ${fruits[i]});\n",
        "}\n",
        "/* Output:\n",
        "I like apple\n",
        "I like banana\n",
        "I like cherry\n",
        "*/\n",
        "\n"
      ],
      "metadata": {
        "id": "cnnbm6x0Tf1p"
      },
      "execution_count": null,
      "outputs": []
    },
    {
      "cell_type": "markdown",
      "source": [
        "2. while loop:\n",
        "Used when you don't know the exact number of iterations but want to repeat a block of code as long as a certain condition remains true. The condition is checked before each iteration.\n"
      ],
      "metadata": {
        "id": "nz2dS6GxToCr"
      }
    },
    {
      "cell_type": "code",
      "source": [
        "// Syntax:\n",
        "while (condition) {\n",
        "  // Code to be executed repeatedly\n",
        "  // Make sure to change the condition inside the loop to avoid infinite loops!\n",
        "}\n",
        "\n",
        "// Example: Print numbers from 1 to 5\n",
        "let i = 1;\n",
        "while (i <= 5) {\n",
        "  console.log(i);\n",
        "  i++; // Increment to eventually make the condition false\n",
        "}\n",
        "/* Output:\n",
        "1\n",
        "2\n",
        "3\n",
        "4\n",
        "5\n",
        "*/\n"
      ],
      "metadata": {
        "id": "Twa-DyHfTpZE"
      },
      "execution_count": null,
      "outputs": []
    },
    {
      "cell_type": "markdown",
      "source": [
        "3. do...while loop:\n",
        "Similar to the while loop, but the code block is executed at least once before the condition is checked.\n"
      ],
      "metadata": {
        "id": "BPymEi49TtIe"
      }
    },
    {
      "cell_type": "code",
      "source": [
        "// Syntax:\n",
        "do {\n",
        "  // Code to be executed at least once\n",
        "  // Make sure to change the condition inside the loop!\n",
        "} while (condition);\n",
        "\n",
        "// Example: Print numbers from 1 to 5\n",
        "let j = 1;\n",
        "do {\n",
        "  console.log(j);\n",
        "  j++;\n",
        "} while (j <= 5);\n",
        "/* Output:\n",
        "1\n",
        "2\n",
        "3\n",
        "4\n",
        "5\n",
        "*/\n",
        "\n",
        "// Example demonstrating at least once execution\n",
        "let k = 10;\n",
        "do {\n",
        "  console.log(\"This will run at least once, even if condition is false initially.\"); // Output: This will run at least once...\n",
        "  k++;\n",
        "} while (k < 5);\n",
        "\n"
      ],
      "metadata": {
        "id": "Zz4LTL32Twhc"
      },
      "execution_count": null,
      "outputs": []
    },
    {
      "cell_type": "markdown",
      "source": [
        "Q4. Generate numbers between any 2 given numbers.\n",
        "Ex:\n",
        " * const num1 = 10;\n",
        " * const num2 = 25;\n",
        " * Output: 11, 12, 13, ..., 25\n",
        "\n",
        "Ans:"
      ],
      "metadata": {
        "id": "ZWfi0vdQT3Ub"
      }
    },
    {
      "cell_type": "code",
      "source": [
        "<!-- end list -->\n",
        "function generateNumbersBetween(num1, num2) {\n",
        "  let numbers = [];\n",
        "  // Ensure num1 is always the smaller number for the loop\n",
        "  const start = Math.min(num1, num2);\n",
        "  const end = Math.max(num1, num2);\n",
        "\n",
        "  // Start from one greater than the smaller number, up to and including the larger number\n",
        "  for (let i = start + 1; i <= end; i++) {\n",
        "    numbers.push(i);\n",
        "  }\n",
        "  return numbers.join(\", \"); // Join with comma and space for output\n",
        "}\n",
        "// Test cases based on the example\n",
        "const num1 = 10;\n",
        "const num2 = 25;\n",
        "console.log(Numbers between ${num1} and ${num2}: ${generateNumbersBetween(num1, num2)});\n",
        "// Expected Output: Numbers between 10 and 25: 11, 12, 13, 14, 15, 16, 17, 18, 19, 20, 21, 22, 23, 24, 25\n",
        "\n",
        "const a = 5;\n",
        "const b = 1;\n",
        "console.log(Numbers between ${a} and ${b}: ${generateNumbersBetween(a, b)});\n",
        "// Expected Output: Numbers between 5 and 1: 2, 3, 4, 5\n",
        "\n",
        "\n"
      ],
      "metadata": {
        "id": "BjF1QzDWUHLa"
      },
      "execution_count": null,
      "outputs": []
    },
    {
      "cell_type": "markdown",
      "source": [
        "Q5. Use the while loop to print numbers from 1 to 25 in ascending and descending order?\n",
        "\n",
        "Ans:"
      ],
      "metadata": {
        "id": "1FbVfLQaUNse"
      }
    },
    {
      "cell_type": "code",
      "source": [
        "Ascending Order (1 to 25):\n",
        "console.log(\"Numbers in Ascending Order (1 to 25):\");\n",
        "let ascendingCounter = 1;\n",
        "while (ascendingCounter <= 25) {\n",
        "  console.log(ascendingCounter);\n",
        "  ascendingCounter++;\n",
        "}\n",
        "\n",
        "Descending Order (25 to 1):\n",
        "console.log(\"\\nNumbers in Descending Order (25 to 1):\");\n",
        "let descendingCounter = 25;\n",
        "while (descendingCounter >= 1) {\n",
        "  console.log(descendingCounter);\n",
        "  descendingCounter--;\n",
        "}"
      ],
      "metadata": {
        "id": "e0-pJQgJUUrq"
      },
      "execution_count": null,
      "outputs": []
    }
  ]
}